{
 "cells": [
  {
   "cell_type": "markdown",
   "metadata": {},
   "source": [
    "# Term Project : Game Rating Predictor"
   ]
  },
  {
   "cell_type": "markdown",
   "metadata": {},
   "source": [
    "<b> Name:</b> Jemis Dhameliya<br>\n",
    "<b> ID:</b> 1001773032"
   ]
  },
  {
   "cell_type": "markdown",
   "metadata": {},
   "source": [
    "## Overview"
   ]
  },
  {
   "cell_type": "markdown",
   "metadata": {},
   "source": [
    "- 1.Read the data from dataset\n",
    "- 2.Preprocess the data\n",
    "    - 2.1 Remove empty rows(comment)\n",
    "    - 2.2 Remove Alphanumeric values from comment\n",
    "    - 2.3 Remove Stopwords from data\n",
    "- 3.Divide dataset into training and testing\n",
    "- 4.Vectorize the data\n",
    "- 5.Classify data with different Classifier\n",
    "    - 5.1 Find Accuracy\n",
    "    - 5.2 Find RMSE\n",
    "- 6.HyperParameter Tuning\n",
    "    - 6.1 Test the Model using HyperParameter"
   ]
  },
  {
   "cell_type": "markdown",
   "metadata": {},
   "source": [
    "## Classifier"
   ]
  },
  {
   "cell_type": "markdown",
   "metadata": {},
   "source": [
    "### Multinomial Naive Bayes\n",
    "The multinomial Naive Bayes classifier is suitable for classification with discrete features (e.g., word counts for text classification). The multinomial distribution normally requires integer feature counts. However, in practice, fractional counts such as tf-idf may also work.<br>\n",
    "<b>Posterior Probability = (Prior * Likelihood)/(Evidence)</b><br>\n",
    "Multinomial Naive Bayes calculates likelihood to be count of an word/token (random variable).\n",
    "\n",
    "### Ridge Classifier\n",
    "This classifier first converts the target values into {-1, 1} and then treats the problem as a regression task (multi-output regression in the multiclass case).The highest value in prediction is accepted as a target class and for multiclass data muilti-output regression is applied.\n",
    "\n",
    "### Logistic Regression\n",
    "Logistic regression, despite its name, is a classification algorithm rather than regression algorithm. Based on a given set of independent variables, it is used to estimate discrete value (0 or 1, yes/no, true/false). It is also called logit or MaxEnt Classifier.<br>\n",
    "Basically, it measures the relationship between the categorical dependent variable and one or more independent variables by estimating the probability of occurrence of an event using its logistics function."
   ]
  },
  {
   "cell_type": "code",
   "execution_count": 1,
   "metadata": {},
   "outputs": [],
   "source": [
    "import re\n",
    "import os\n",
    "import csv\n",
    "import random\n",
    "import pickle\n",
    "import joblib\n",
    "import pandas as pd\n",
    "import numpy as np\n",
    "from collections import Counter\n",
    "import matplotlib.pyplot as plt\n",
    "import nltk"
   ]
  },
  {
   "cell_type": "markdown",
   "metadata": {},
   "source": [
    "### -->> Read the dataset"
   ]
  },
  {
   "cell_type": "markdown",
   "metadata": {},
   "source": [
    "#### I used board greek game review dataset,which has around 15 million review(comment). Each user has give rating to game on the scale of 10."
   ]
  },
  {
   "cell_type": "code",
   "execution_count": 2,
   "metadata": {},
   "outputs": [],
   "source": [
    "review_data = r'D:\\DMproject\\bgg-15m-reviews.csv'"
   ]
  },
  {
   "cell_type": "code",
   "execution_count": 3,
   "metadata": {},
   "outputs": [],
   "source": [
    "data=pd.read_csv(review_data)\n",
    "#data.head()"
   ]
  },
  {
   "cell_type": "code",
   "execution_count": 4,
   "metadata": {},
   "outputs": [
    {
     "data": {
      "text/html": [
       "<div>\n",
       "<style scoped>\n",
       "    .dataframe tbody tr th:only-of-type {\n",
       "        vertical-align: middle;\n",
       "    }\n",
       "\n",
       "    .dataframe tbody tr th {\n",
       "        vertical-align: top;\n",
       "    }\n",
       "\n",
       "    .dataframe thead th {\n",
       "        text-align: right;\n",
       "    }\n",
       "</style>\n",
       "<table border=\"1\" class=\"dataframe\">\n",
       "  <thead>\n",
       "    <tr style=\"text-align: right;\">\n",
       "      <th></th>\n",
       "      <th>Unnamed: 0</th>\n",
       "      <th>user</th>\n",
       "      <th>rating</th>\n",
       "      <th>comment</th>\n",
       "      <th>ID</th>\n",
       "      <th>name</th>\n",
       "    </tr>\n",
       "  </thead>\n",
       "  <tbody>\n",
       "    <tr>\n",
       "      <th>0</th>\n",
       "      <td>0</td>\n",
       "      <td>Torsten</td>\n",
       "      <td>10.0</td>\n",
       "      <td>NaN</td>\n",
       "      <td>30549</td>\n",
       "      <td>Pandemic</td>\n",
       "    </tr>\n",
       "    <tr>\n",
       "      <th>1</th>\n",
       "      <td>1</td>\n",
       "      <td>mitnachtKAUBO-I</td>\n",
       "      <td>10.0</td>\n",
       "      <td>Hands down my favorite new game of BGG CON 200...</td>\n",
       "      <td>30549</td>\n",
       "      <td>Pandemic</td>\n",
       "    </tr>\n",
       "    <tr>\n",
       "      <th>2</th>\n",
       "      <td>2</td>\n",
       "      <td>avlawn</td>\n",
       "      <td>10.0</td>\n",
       "      <td>I tend to either love or easily tire of co-op ...</td>\n",
       "      <td>30549</td>\n",
       "      <td>Pandemic</td>\n",
       "    </tr>\n",
       "    <tr>\n",
       "      <th>3</th>\n",
       "      <td>3</td>\n",
       "      <td>Mike Mayer</td>\n",
       "      <td>10.0</td>\n",
       "      <td>NaN</td>\n",
       "      <td>30549</td>\n",
       "      <td>Pandemic</td>\n",
       "    </tr>\n",
       "    <tr>\n",
       "      <th>4</th>\n",
       "      <td>4</td>\n",
       "      <td>Mease19</td>\n",
       "      <td>10.0</td>\n",
       "      <td>This is an amazing co-op game.  I play mostly ...</td>\n",
       "      <td>30549</td>\n",
       "      <td>Pandemic</td>\n",
       "    </tr>\n",
       "  </tbody>\n",
       "</table>\n",
       "</div>"
      ],
      "text/plain": [
       "   Unnamed: 0             user  rating  \\\n",
       "0           0          Torsten    10.0   \n",
       "1           1  mitnachtKAUBO-I    10.0   \n",
       "2           2           avlawn    10.0   \n",
       "3           3       Mike Mayer    10.0   \n",
       "4           4          Mease19    10.0   \n",
       "\n",
       "                                             comment     ID      name  \n",
       "0                                                NaN  30549  Pandemic  \n",
       "1  Hands down my favorite new game of BGG CON 200...  30549  Pandemic  \n",
       "2  I tend to either love or easily tire of co-op ...  30549  Pandemic  \n",
       "3                                                NaN  30549  Pandemic  \n",
       "4  This is an amazing co-op game.  I play mostly ...  30549  Pandemic  "
      ]
     },
     "execution_count": 4,
     "metadata": {},
     "output_type": "execute_result"
    }
   ],
   "source": [
    "data.head()"
   ]
  },
  {
   "cell_type": "code",
   "execution_count": 5,
   "metadata": {},
   "outputs": [
    {
     "data": {
      "text/html": [
       "<div>\n",
       "<style scoped>\n",
       "    .dataframe tbody tr th:only-of-type {\n",
       "        vertical-align: middle;\n",
       "    }\n",
       "\n",
       "    .dataframe tbody tr th {\n",
       "        vertical-align: top;\n",
       "    }\n",
       "\n",
       "    .dataframe thead th {\n",
       "        text-align: right;\n",
       "    }\n",
       "</style>\n",
       "<table border=\"1\" class=\"dataframe\">\n",
       "  <thead>\n",
       "    <tr style=\"text-align: right;\">\n",
       "      <th></th>\n",
       "      <th>Unnamed: 0</th>\n",
       "      <th>user</th>\n",
       "      <th>rating</th>\n",
       "      <th>comment</th>\n",
       "      <th>ID</th>\n",
       "      <th>name</th>\n",
       "    </tr>\n",
       "  </thead>\n",
       "  <tbody>\n",
       "    <tr>\n",
       "      <th>15823264</th>\n",
       "      <td>15823264</td>\n",
       "      <td>Fafhrd65</td>\n",
       "      <td>8.0</td>\n",
       "      <td>Turn based preview looks very promising. The g...</td>\n",
       "      <td>281515</td>\n",
       "      <td>Company of Heroes</td>\n",
       "    </tr>\n",
       "    <tr>\n",
       "      <th>15823265</th>\n",
       "      <td>15823265</td>\n",
       "      <td>PlatinumOh</td>\n",
       "      <td>8.0</td>\n",
       "      <td>KS</td>\n",
       "      <td>281515</td>\n",
       "      <td>Company of Heroes</td>\n",
       "    </tr>\n",
       "    <tr>\n",
       "      <th>15823266</th>\n",
       "      <td>15823266</td>\n",
       "      <td>BunkerBill</td>\n",
       "      <td>7.0</td>\n",
       "      <td>NaN</td>\n",
       "      <td>281515</td>\n",
       "      <td>Company of Heroes</td>\n",
       "    </tr>\n",
       "    <tr>\n",
       "      <th>15823267</th>\n",
       "      <td>15823267</td>\n",
       "      <td>Hattori Hanzo</td>\n",
       "      <td>6.0</td>\n",
       "      <td>NaN</td>\n",
       "      <td>281515</td>\n",
       "      <td>Company of Heroes</td>\n",
       "    </tr>\n",
       "    <tr>\n",
       "      <th>15823268</th>\n",
       "      <td>15823268</td>\n",
       "      <td>Richie2000</td>\n",
       "      <td>1.0</td>\n",
       "      <td>NaN</td>\n",
       "      <td>281515</td>\n",
       "      <td>Company of Heroes</td>\n",
       "    </tr>\n",
       "  </tbody>\n",
       "</table>\n",
       "</div>"
      ],
      "text/plain": [
       "          Unnamed: 0           user  rating  \\\n",
       "15823264    15823264       Fafhrd65     8.0   \n",
       "15823265    15823265     PlatinumOh     8.0   \n",
       "15823266    15823266     BunkerBill     7.0   \n",
       "15823267    15823267  Hattori Hanzo     6.0   \n",
       "15823268    15823268     Richie2000     1.0   \n",
       "\n",
       "                                                    comment      ID  \\\n",
       "15823264  Turn based preview looks very promising. The g...  281515   \n",
       "15823265                                                 KS  281515   \n",
       "15823266                                                NaN  281515   \n",
       "15823267                                                NaN  281515   \n",
       "15823268                                                NaN  281515   \n",
       "\n",
       "                       name  \n",
       "15823264  Company of Heroes  \n",
       "15823265  Company of Heroes  \n",
       "15823266  Company of Heroes  \n",
       "15823267  Company of Heroes  \n",
       "15823268  Company of Heroes  "
      ]
     },
     "execution_count": 5,
     "metadata": {},
     "output_type": "execute_result"
    }
   ],
   "source": [
    "data.tail()"
   ]
  },
  {
   "cell_type": "code",
   "execution_count": 6,
   "metadata": {},
   "outputs": [
    {
     "data": {
      "text/plain": [
       "Unnamed: 0           0\n",
       "user                66\n",
       "rating               0\n",
       "comment       12828246\n",
       "ID                   0\n",
       "name                 0\n",
       "dtype: int64"
      ]
     },
     "execution_count": 6,
     "metadata": {},
     "output_type": "execute_result"
    }
   ],
   "source": [
    "data.isna().sum()"
   ]
  },
  {
   "cell_type": "code",
   "execution_count": 7,
   "metadata": {},
   "outputs": [
    {
     "data": {
      "text/plain": [
       "15823269"
      ]
     },
     "execution_count": 7,
     "metadata": {},
     "output_type": "execute_result"
    }
   ],
   "source": [
    "len(data)"
   ]
  },
  {
   "cell_type": "markdown",
   "metadata": {},
   "source": [
    "### Remove the empty Value"
   ]
  },
  {
   "cell_type": "markdown",
   "metadata": {},
   "source": [
    "-->> There are many comments that have empty values. We don't need this empty values for our classification beacuse that does not help us for any prediction."
   ]
  },
  {
   "cell_type": "code",
   "execution_count": 8,
   "metadata": {},
   "outputs": [
    {
     "name": "stdout",
     "output_type": "stream",
     "text": [
      "Length of dataset after removing missing values:  2995023\n",
      "\n"
     ]
    },
    {
     "data": {
      "text/html": [
       "<div>\n",
       "<style scoped>\n",
       "    .dataframe tbody tr th:only-of-type {\n",
       "        vertical-align: middle;\n",
       "    }\n",
       "\n",
       "    .dataframe tbody tr th {\n",
       "        vertical-align: top;\n",
       "    }\n",
       "\n",
       "    .dataframe thead th {\n",
       "        text-align: right;\n",
       "    }\n",
       "</style>\n",
       "<table border=\"1\" class=\"dataframe\">\n",
       "  <thead>\n",
       "    <tr style=\"text-align: right;\">\n",
       "      <th></th>\n",
       "      <th>comment</th>\n",
       "      <th>rating</th>\n",
       "    </tr>\n",
       "  </thead>\n",
       "  <tbody>\n",
       "    <tr>\n",
       "      <th>1</th>\n",
       "      <td>Hands down my favorite new game of BGG CON 200...</td>\n",
       "      <td>10.0</td>\n",
       "    </tr>\n",
       "    <tr>\n",
       "      <th>2</th>\n",
       "      <td>I tend to either love or easily tire of co-op ...</td>\n",
       "      <td>10.0</td>\n",
       "    </tr>\n",
       "    <tr>\n",
       "      <th>4</th>\n",
       "      <td>This is an amazing co-op game.  I play mostly ...</td>\n",
       "      <td>10.0</td>\n",
       "    </tr>\n",
       "    <tr>\n",
       "      <th>5</th>\n",
       "      <td>Hey! I can finally rate this game I've been pl...</td>\n",
       "      <td>10.0</td>\n",
       "    </tr>\n",
       "    <tr>\n",
       "      <th>8</th>\n",
       "      <td>Love it- great fun with my son. 2 plays so far...</td>\n",
       "      <td>10.0</td>\n",
       "    </tr>\n",
       "  </tbody>\n",
       "</table>\n",
       "</div>"
      ],
      "text/plain": [
       "                                             comment  rating\n",
       "1  Hands down my favorite new game of BGG CON 200...    10.0\n",
       "2  I tend to either love or easily tire of co-op ...    10.0\n",
       "4  This is an amazing co-op game.  I play mostly ...    10.0\n",
       "5  Hey! I can finally rate this game I've been pl...    10.0\n",
       "8  Love it- great fun with my son. 2 plays so far...    10.0"
      ]
     },
     "execution_count": 8,
     "metadata": {},
     "output_type": "execute_result"
    }
   ],
   "source": [
    "data = data[['comment','rating']]\n",
    "#removing missing values from datafra\n",
    "data.dropna(inplace=True)\n",
    "print(\"Length of dataset after removing missing values: \",len(data))\n",
    "print('')\n",
    "data.head()"
   ]
  },
  {
   "cell_type": "code",
   "execution_count": 9,
   "metadata": {},
   "outputs": [
    {
     "data": {
      "text/plain": [
       "2995023"
      ]
     },
     "execution_count": 9,
     "metadata": {},
     "output_type": "execute_result"
    }
   ],
   "source": [
    "len(data)"
   ]
  },
  {
   "cell_type": "code",
   "execution_count": 10,
   "metadata": {},
   "outputs": [],
   "source": [
    "X=data.iloc[:,0].values"
   ]
  },
  {
   "cell_type": "code",
   "execution_count": 11,
   "metadata": {},
   "outputs": [
    {
     "data": {
      "text/plain": [
       "\"This is an amazing co-op game.  I play mostly with my wife and this is a game that I can't really imagine getting tired of.  Win or lose, I usually want to play again immediately.  On the Brink and the fan-made expansion from on ArtsCow add much more variety and good game play, only enhancing an already great game.\""
      ]
     },
     "execution_count": 11,
     "metadata": {},
     "output_type": "execute_result"
    }
   ],
   "source": [
    "X[2]"
   ]
  },
  {
   "cell_type": "markdown",
   "metadata": {},
   "source": [
    "### Preprocess the Data"
   ]
  },
  {
   "cell_type": "markdown",
   "metadata": {},
   "source": [
    "Preprocess tha data needed beacuse to get some meaningful information and improve performance.\n",
    "\n",
    "->Remove any alphanumeric values and also remove html tags and sigle letter words.\n",
    "\n",
    "->Convert all letters to lower case."
   ]
  },
  {
   "cell_type": "code",
   "execution_count": 12,
   "metadata": {},
   "outputs": [
    {
     "data": {
      "text/plain": [
       "'this is an amazing coop game    play mostly with my wife and this is  game that  can  really imagine getting tired of   win or lose   usually want to play again immediately   on the brink and the fanmade expansion from on artscow add much more variety and good game play  only enhancing an already great game '"
      ]
     },
     "execution_count": 12,
     "metadata": {},
     "output_type": "execute_result"
    }
   ],
   "source": [
    "P1 = re.compile(\"(\\\\b[A-Za-z] \\\\b|\\\\b [A-Za-z]\\\\b)\")\n",
    "P2 = re.compile(\"(<br\\s*/><br\\s*/>)|(\\-)|(\\/)\")\n",
    "def preprocess(text):\n",
    "    text = re.sub(P2, '' , str(text))\n",
    "    text = re.sub(P1, ' ',str(text))\n",
    "    text = re.sub('[^a-zA-Z]', ' ', str(text))\n",
    "    text = text.lower()\n",
    "    return text\n",
    "\n",
    "for i in range(len(X)):\n",
    "    X[i] = preprocess(X[i])\n",
    "X[2]"
   ]
  },
  {
   "cell_type": "markdown",
   "metadata": {},
   "source": [
    "#### Considering the limitation of processor and system, I take small size of data for further process. So I take around 5% of total data for further classification."
   ]
  },
  {
   "cell_type": "code",
   "execution_count": 14,
   "metadata": {},
   "outputs": [
    {
     "name": "stdout",
     "output_type": "stream",
     "text": [
      "Size of training set:  149751\n"
     ]
    }
   ],
   "source": [
    "shuffle = data.sample(frac=1).to_numpy() \n",
    "size = int(0.05*len(data))\n",
    "small_chunk = shuffle[:size]\n",
    "print(\"Size of training set: \",len(small_chunk))"
   ]
  },
  {
   "cell_type": "code",
   "execution_count": 15,
   "metadata": {},
   "outputs": [
    {
     "data": {
      "text/plain": [
       "array([['this game is fun ', 5.0],\n",
       "       ['players     time    hrs you must solve  series of riddles and puzzles to escape from  room  each correct solution brings you to another riddle  how fast can you escape the room  this game can be played only once  because you markup  fold  and tear the game materials ',\n",
       "        7.5],\n",
       "       [' redniak plus za piwo', 5.0],\n",
       "       ['very good strategic game  pocket  easy to carry and to play ',\n",
       "        7.0],\n",
       "       ['it is fine   brittny is  huge fan  but  feel something is lacking ',\n",
       "        5.0]], dtype=object)"
      ]
     },
     "execution_count": 15,
     "metadata": {},
     "output_type": "execute_result"
    }
   ],
   "source": [
    "small_chunk[:5]"
   ]
  },
  {
   "cell_type": "code",
   "execution_count": 16,
   "metadata": {},
   "outputs": [],
   "source": [
    "chunk_C=small_chunk[:,0]"
   ]
  },
  {
   "cell_type": "code",
   "execution_count": 17,
   "metadata": {},
   "outputs": [
    {
     "data": {
      "text/plain": [
       "' redniak plus za piwo'"
      ]
     },
     "execution_count": 17,
     "metadata": {},
     "output_type": "execute_result"
    }
   ],
   "source": [
    "chunk_C[2]"
   ]
  },
  {
   "cell_type": "code",
   "execution_count": 18,
   "metadata": {},
   "outputs": [
    {
     "data": {
      "text/html": [
       "<div>\n",
       "<style scoped>\n",
       "    .dataframe tbody tr th:only-of-type {\n",
       "        vertical-align: middle;\n",
       "    }\n",
       "\n",
       "    .dataframe tbody tr th {\n",
       "        vertical-align: top;\n",
       "    }\n",
       "\n",
       "    .dataframe thead th {\n",
       "        text-align: right;\n",
       "    }\n",
       "</style>\n",
       "<table border=\"1\" class=\"dataframe\">\n",
       "  <thead>\n",
       "    <tr style=\"text-align: right;\">\n",
       "      <th></th>\n",
       "      <th>comment</th>\n",
       "      <th>rating</th>\n",
       "    </tr>\n",
       "  </thead>\n",
       "  <tbody>\n",
       "    <tr>\n",
       "      <th>0</th>\n",
       "      <td>this game is fun</td>\n",
       "      <td>5</td>\n",
       "    </tr>\n",
       "    <tr>\n",
       "      <th>1</th>\n",
       "      <td>players     time    hrs you must solve  series...</td>\n",
       "      <td>7.5</td>\n",
       "    </tr>\n",
       "    <tr>\n",
       "      <th>2</th>\n",
       "      <td>redniak plus za piwo</td>\n",
       "      <td>5</td>\n",
       "    </tr>\n",
       "    <tr>\n",
       "      <th>3</th>\n",
       "      <td>very good strategic game  pocket  easy to carr...</td>\n",
       "      <td>7</td>\n",
       "    </tr>\n",
       "    <tr>\n",
       "      <th>4</th>\n",
       "      <td>it is fine   brittny is  huge fan  but  feel s...</td>\n",
       "      <td>5</td>\n",
       "    </tr>\n",
       "  </tbody>\n",
       "</table>\n",
       "</div>"
      ],
      "text/plain": [
       "                                             comment rating\n",
       "0                                  this game is fun       5\n",
       "1  players     time    hrs you must solve  series...    7.5\n",
       "2                               redniak plus za piwo      5\n",
       "3  very good strategic game  pocket  easy to carr...      7\n",
       "4  it is fine   brittny is  huge fan  but  feel s...      5"
      ]
     },
     "execution_count": 18,
     "metadata": {},
     "output_type": "execute_result"
    }
   ],
   "source": [
    "dataset=pd.DataFrame({'comment':small_chunk[:,0],'rating':small_chunk[:,1]})\n",
    "dataset.head()"
   ]
  },
  {
   "cell_type": "markdown",
   "metadata": {},
   "source": [
    "#### Remove Stop Words:\n",
    "\n",
    "Comments still have stopwords in it and that has to be removed.\n",
    "So I tokenize all comments and then remove stopwords using nltk."
   ]
  },
  {
   "cell_type": "code",
   "execution_count": 19,
   "metadata": {},
   "outputs": [
    {
     "data": {
      "text/html": [
       "<div>\n",
       "<style scoped>\n",
       "    .dataframe tbody tr th:only-of-type {\n",
       "        vertical-align: middle;\n",
       "    }\n",
       "\n",
       "    .dataframe tbody tr th {\n",
       "        vertical-align: top;\n",
       "    }\n",
       "\n",
       "    .dataframe thead th {\n",
       "        text-align: right;\n",
       "    }\n",
       "</style>\n",
       "<table border=\"1\" class=\"dataframe\">\n",
       "  <thead>\n",
       "    <tr style=\"text-align: right;\">\n",
       "      <th></th>\n",
       "      <th>comment</th>\n",
       "      <th>rating</th>\n",
       "    </tr>\n",
       "  </thead>\n",
       "  <tbody>\n",
       "    <tr>\n",
       "      <th>0</th>\n",
       "      <td>[this, game, is, fun]</td>\n",
       "      <td>5</td>\n",
       "    </tr>\n",
       "    <tr>\n",
       "      <th>1</th>\n",
       "      <td>[players, time, hrs, you, must, solve, series,...</td>\n",
       "      <td>7.5</td>\n",
       "    </tr>\n",
       "    <tr>\n",
       "      <th>2</th>\n",
       "      <td>[redniak, plus, za, piwo]</td>\n",
       "      <td>5</td>\n",
       "    </tr>\n",
       "    <tr>\n",
       "      <th>3</th>\n",
       "      <td>[very, good, strategic, game, pocket, easy, to...</td>\n",
       "      <td>7</td>\n",
       "    </tr>\n",
       "    <tr>\n",
       "      <th>4</th>\n",
       "      <td>[it, is, fine, brittny, is, huge, fan, but, fe...</td>\n",
       "      <td>5</td>\n",
       "    </tr>\n",
       "  </tbody>\n",
       "</table>\n",
       "</div>"
      ],
      "text/plain": [
       "                                             comment rating\n",
       "0                              [this, game, is, fun]      5\n",
       "1  [players, time, hrs, you, must, solve, series,...    7.5\n",
       "2                          [redniak, plus, za, piwo]      5\n",
       "3  [very, good, strategic, game, pocket, easy, to...      7\n",
       "4  [it, is, fine, brittny, is, huge, fan, but, fe...      5"
      ]
     },
     "execution_count": 19,
     "metadata": {},
     "output_type": "execute_result"
    }
   ],
   "source": [
    "from nltk.tokenize import RegexpTokenizer\n",
    "tokenizer = RegexpTokenizer(r'\\w+')\n",
    "dataset['comment'] = dataset['comment'].apply(lambda x: tokenizer.tokenize(x.lower()))\n",
    "dataset.head()"
   ]
  },
  {
   "cell_type": "code",
   "execution_count": 20,
   "metadata": {},
   "outputs": [
    {
     "name": "stderr",
     "output_type": "stream",
     "text": [
      "[nltk_data] Downloading package punkt to C:\\Users\\Dhameliya\n",
      "[nltk_data]     Jemis\\AppData\\Roaming\\nltk_data...\n",
      "[nltk_data]   Package punkt is already up-to-date!\n",
      "[nltk_data] Downloading package stopwords to C:\\Users\\Dhameliya\n",
      "[nltk_data]     Jemis\\AppData\\Roaming\\nltk_data...\n",
      "[nltk_data]   Package stopwords is already up-to-date!\n"
     ]
    },
    {
     "data": {
      "text/plain": [
       "True"
      ]
     },
     "execution_count": 20,
     "metadata": {},
     "output_type": "execute_result"
    }
   ],
   "source": [
    "from nltk.corpus import stopwords\n",
    "from nltk import word_tokenize\n",
    "nltk.download('punkt')\n",
    "nltk.download(\"stopwords\")"
   ]
  },
  {
   "cell_type": "code",
   "execution_count": 21,
   "metadata": {},
   "outputs": [
    {
     "data": {
      "text/html": [
       "<div>\n",
       "<style scoped>\n",
       "    .dataframe tbody tr th:only-of-type {\n",
       "        vertical-align: middle;\n",
       "    }\n",
       "\n",
       "    .dataframe tbody tr th {\n",
       "        vertical-align: top;\n",
       "    }\n",
       "\n",
       "    .dataframe thead th {\n",
       "        text-align: right;\n",
       "    }\n",
       "</style>\n",
       "<table border=\"1\" class=\"dataframe\">\n",
       "  <thead>\n",
       "    <tr style=\"text-align: right;\">\n",
       "      <th></th>\n",
       "      <th>comment</th>\n",
       "      <th>rating</th>\n",
       "    </tr>\n",
       "  </thead>\n",
       "  <tbody>\n",
       "    <tr>\n",
       "      <th>0</th>\n",
       "      <td>[game, fun]</td>\n",
       "      <td>5</td>\n",
       "    </tr>\n",
       "    <tr>\n",
       "      <th>1</th>\n",
       "      <td>[players, time, hrs, must, solve, series, ridd...</td>\n",
       "      <td>7.5</td>\n",
       "    </tr>\n",
       "    <tr>\n",
       "      <th>2</th>\n",
       "      <td>[redniak, plus, za, piwo]</td>\n",
       "      <td>5</td>\n",
       "    </tr>\n",
       "    <tr>\n",
       "      <th>3</th>\n",
       "      <td>[good, strategic, game, pocket, easy, carry, p...</td>\n",
       "      <td>7</td>\n",
       "    </tr>\n",
       "    <tr>\n",
       "      <th>4</th>\n",
       "      <td>[fine, brittny, huge, fan, feel, something, la...</td>\n",
       "      <td>5</td>\n",
       "    </tr>\n",
       "  </tbody>\n",
       "</table>\n",
       "</div>"
      ],
      "text/plain": [
       "                                             comment rating\n",
       "0                                        [game, fun]      5\n",
       "1  [players, time, hrs, must, solve, series, ridd...    7.5\n",
       "2                          [redniak, plus, za, piwo]      5\n",
       "3  [good, strategic, game, pocket, easy, carry, p...      7\n",
       "4  [fine, brittny, huge, fan, feel, something, la...      5"
      ]
     },
     "execution_count": 21,
     "metadata": {},
     "output_type": "execute_result"
    }
   ],
   "source": [
    "stops = set(stopwords.words(\"english\"))\n",
    "dataset['comment'] = dataset['comment'].apply(lambda x: [item for item in x if item not in stops])\n",
    "dataset.head()"
   ]
  },
  {
   "cell_type": "code",
   "execution_count": 22,
   "metadata": {},
   "outputs": [
    {
     "data": {
      "text/html": [
       "<div>\n",
       "<style scoped>\n",
       "    .dataframe tbody tr th:only-of-type {\n",
       "        vertical-align: middle;\n",
       "    }\n",
       "\n",
       "    .dataframe tbody tr th {\n",
       "        vertical-align: top;\n",
       "    }\n",
       "\n",
       "    .dataframe thead th {\n",
       "        text-align: right;\n",
       "    }\n",
       "</style>\n",
       "<table border=\"1\" class=\"dataframe\">\n",
       "  <thead>\n",
       "    <tr style=\"text-align: right;\">\n",
       "      <th></th>\n",
       "      <th>comment</th>\n",
       "      <th>rating</th>\n",
       "    </tr>\n",
       "  </thead>\n",
       "  <tbody>\n",
       "    <tr>\n",
       "      <th>0</th>\n",
       "      <td>game fun</td>\n",
       "      <td>5</td>\n",
       "    </tr>\n",
       "    <tr>\n",
       "      <th>1</th>\n",
       "      <td>players time hrs must solve series riddles puz...</td>\n",
       "      <td>7.5</td>\n",
       "    </tr>\n",
       "    <tr>\n",
       "      <th>2</th>\n",
       "      <td>redniak plus za piwo</td>\n",
       "      <td>5</td>\n",
       "    </tr>\n",
       "    <tr>\n",
       "      <th>3</th>\n",
       "      <td>good strategic game pocket easy carry play</td>\n",
       "      <td>7</td>\n",
       "    </tr>\n",
       "    <tr>\n",
       "      <th>4</th>\n",
       "      <td>fine brittny huge fan feel something lacking</td>\n",
       "      <td>5</td>\n",
       "    </tr>\n",
       "    <tr>\n",
       "      <th>5</th>\n",
       "      <td>marvel legendary replaced</td>\n",
       "      <td>6</td>\n",
       "    </tr>\n",
       "    <tr>\n",
       "      <th>6</th>\n",
       "      <td>gencon</td>\n",
       "      <td>5</td>\n",
       "    </tr>\n",
       "    <tr>\n",
       "      <th>7</th>\n",
       "      <td>rdekes hogy ez volt az els j k gipf univerzumb...</td>\n",
       "      <td>7.5</td>\n",
       "    </tr>\n",
       "    <tr>\n",
       "      <th>8</th>\n",
       "      <td>congressman joe wilson favorite game</td>\n",
       "      <td>6</td>\n",
       "    </tr>\n",
       "    <tr>\n",
       "      <th>9</th>\n",
       "      <td>dry abstract game take long get excited playin...</td>\n",
       "      <td>5</td>\n",
       "    </tr>\n",
       "  </tbody>\n",
       "</table>\n",
       "</div>"
      ],
      "text/plain": [
       "                                             comment rating\n",
       "0                                           game fun      5\n",
       "1  players time hrs must solve series riddles puz...    7.5\n",
       "2                               redniak plus za piwo      5\n",
       "3         good strategic game pocket easy carry play      7\n",
       "4       fine brittny huge fan feel something lacking      5\n",
       "5                          marvel legendary replaced      6\n",
       "6                                             gencon      5\n",
       "7  rdekes hogy ez volt az els j k gipf univerzumb...    7.5\n",
       "8               congressman joe wilson favorite game      6\n",
       "9  dry abstract game take long get excited playin...      5"
      ]
     },
     "execution_count": 22,
     "metadata": {},
     "output_type": "execute_result"
    }
   ],
   "source": [
    "dataset['comment'] = dataset['comment'].apply(' '.join)\n",
    "dataset.head(10)"
   ]
  },
  {
   "cell_type": "markdown",
   "metadata": {},
   "source": [
    "#### Top 10 most used words."
   ]
  },
  {
   "cell_type": "code",
   "execution_count": 23,
   "metadata": {},
   "outputs": [
    {
     "name": "stdout",
     "output_type": "stream",
     "text": [
      "[('game', 142717), ('play', 41336), ('like', 28907), ('fun', 28754), ('one', 26604), ('good', 22067), ('games', 21553), ('really', 20270), ('players', 20244), ('played', 19643)]\n"
     ]
    }
   ],
   "source": [
    "print(Counter(' '.join(dataset[\"comment\"]).split()).most_common(10)[:10])"
   ]
  },
  {
   "cell_type": "markdown",
   "metadata": {},
   "source": [
    "#### There are many distinct values of rating and with that much of different values it is very tough to predict the rating. So I used round method to roundof the values of rating. EXP: 7.4=7.0"
   ]
  },
  {
   "cell_type": "code",
   "execution_count": 24,
   "metadata": {},
   "outputs": [
    {
     "data": {
      "text/html": [
       "<div>\n",
       "<style scoped>\n",
       "    .dataframe tbody tr th:only-of-type {\n",
       "        vertical-align: middle;\n",
       "    }\n",
       "\n",
       "    .dataframe tbody tr th {\n",
       "        vertical-align: top;\n",
       "    }\n",
       "\n",
       "    .dataframe thead th {\n",
       "        text-align: right;\n",
       "    }\n",
       "</style>\n",
       "<table border=\"1\" class=\"dataframe\">\n",
       "  <thead>\n",
       "    <tr style=\"text-align: right;\">\n",
       "      <th></th>\n",
       "      <th>comment</th>\n",
       "      <th>rating</th>\n",
       "    </tr>\n",
       "  </thead>\n",
       "  <tbody>\n",
       "    <tr>\n",
       "      <th>0</th>\n",
       "      <td>game fun</td>\n",
       "      <td>5.0</td>\n",
       "    </tr>\n",
       "    <tr>\n",
       "      <th>1</th>\n",
       "      <td>players time hrs must solve series riddles puz...</td>\n",
       "      <td>8.0</td>\n",
       "    </tr>\n",
       "    <tr>\n",
       "      <th>2</th>\n",
       "      <td>redniak plus za piwo</td>\n",
       "      <td>5.0</td>\n",
       "    </tr>\n",
       "    <tr>\n",
       "      <th>3</th>\n",
       "      <td>good strategic game pocket easy carry play</td>\n",
       "      <td>7.0</td>\n",
       "    </tr>\n",
       "    <tr>\n",
       "      <th>4</th>\n",
       "      <td>fine brittny huge fan feel something lacking</td>\n",
       "      <td>5.0</td>\n",
       "    </tr>\n",
       "    <tr>\n",
       "      <th>5</th>\n",
       "      <td>marvel legendary replaced</td>\n",
       "      <td>6.0</td>\n",
       "    </tr>\n",
       "    <tr>\n",
       "      <th>6</th>\n",
       "      <td>gencon</td>\n",
       "      <td>5.0</td>\n",
       "    </tr>\n",
       "    <tr>\n",
       "      <th>7</th>\n",
       "      <td>rdekes hogy ez volt az els j k gipf univerzumb...</td>\n",
       "      <td>8.0</td>\n",
       "    </tr>\n",
       "    <tr>\n",
       "      <th>8</th>\n",
       "      <td>congressman joe wilson favorite game</td>\n",
       "      <td>6.0</td>\n",
       "    </tr>\n",
       "    <tr>\n",
       "      <th>9</th>\n",
       "      <td>dry abstract game take long get excited playin...</td>\n",
       "      <td>5.0</td>\n",
       "    </tr>\n",
       "  </tbody>\n",
       "</table>\n",
       "</div>"
      ],
      "text/plain": [
       "                                             comment  rating\n",
       "0                                           game fun     5.0\n",
       "1  players time hrs must solve series riddles puz...     8.0\n",
       "2                               redniak plus za piwo     5.0\n",
       "3         good strategic game pocket easy carry play     7.0\n",
       "4       fine brittny huge fan feel something lacking     5.0\n",
       "5                          marvel legendary replaced     6.0\n",
       "6                                             gencon     5.0\n",
       "7  rdekes hogy ez volt az els j k gipf univerzumb...     8.0\n",
       "8               congressman joe wilson favorite game     6.0\n",
       "9  dry abstract game take long get excited playin...     5.0"
      ]
     },
     "execution_count": 24,
     "metadata": {},
     "output_type": "execute_result"
    }
   ],
   "source": [
    "dataset['rating'] =np.round(dataset['rating'].astype(np.double))\n",
    "dataset.head(10)"
   ]
  },
  {
   "cell_type": "code",
   "execution_count": 25,
   "metadata": {},
   "outputs": [
    {
     "data": {
      "text/plain": [
       "8.0     37695\n",
       "7.0     32346\n",
       "6.0     29677\n",
       "9.0     13821\n",
       "5.0     12095\n",
       "10.0     9250\n",
       "4.0      7612\n",
       "3.0      3877\n",
       "2.0      2217\n",
       "1.0      1161\n",
       "Name: rating, dtype: int64"
      ]
     },
     "execution_count": 25,
     "metadata": {},
     "output_type": "execute_result"
    }
   ],
   "source": [
    "dataset['rating'].value_counts()"
   ]
  },
  {
   "cell_type": "markdown",
   "metadata": {},
   "source": [
    "#### Now, Divide the dataset into two parts: 1. Features and 2. Lables"
   ]
  },
  {
   "cell_type": "markdown",
   "metadata": {},
   "source": [
    "I used train_test_split method for divide the dataset. \n",
    "\n",
    "70% of dataset is used for train and 30% of dataset is used for testing."
   ]
  },
  {
   "cell_type": "code",
   "execution_count": 26,
   "metadata": {},
   "outputs": [
    {
     "name": "stdout",
     "output_type": "stream",
     "text": [
      "104825\n",
      "44926\n",
      "104825\n",
      "44926\n"
     ]
    }
   ],
   "source": [
    "from sklearn.model_selection import train_test_split\n",
    "X_train, X_test, Y_train, Y_test = train_test_split(dataset['comment'], dataset['rating'], test_size=0.3)\n",
    "print(len(X_train))\n",
    "print(len(X_test))\n",
    "print(len(Y_train))\n",
    "print(len(Y_test))"
   ]
  },
  {
   "cell_type": "markdown",
   "metadata": {},
   "source": [
    "### Vectorizing The data.\n",
    "\n",
    "<b>CountVectorizer()</b> : Scikit-learn’s CountVectorizer is used to convert a collection of text documents to a vector of term/token counts. It also enables the pre-processing of text data prior to generating the vector representation. This functionality makes it a highly flexible feature representation module for text.\n",
    "\n",
    "fit_transform() : Learn the vocabulary dictionary and return document-term matrix\n",
    "\n",
    "transform() : Transform documents to document-term matrix.\n",
    "\n",
    "get_feature_names() : Array mapping from feature integer indices to feature name."
   ]
  },
  {
   "cell_type": "code",
   "execution_count": 27,
   "metadata": {},
   "outputs": [
    {
     "name": "stdout",
     "output_type": "stream",
     "text": [
      "pred:\n",
      "<104825x17008 sparse matrix of type '<class 'numpy.int64'>'\n",
      "\twith 1759545 stored elements in Compressed Sparse Row format>\n"
     ]
    }
   ],
   "source": [
    "from sklearn.feature_extraction.text import CountVectorizer\n",
    "vectorizer = CountVectorizer(min_df=5).fit(X_train)\n",
    "pred = vectorizer.fit_transform(X_train)\n",
    "pred1 = vectorizer.transform(X_test)\n",
    "print(\"pred:\\n{}\".format(repr(pred)))"
   ]
  },
  {
   "cell_type": "code",
   "execution_count": 28,
   "metadata": {},
   "outputs": [
    {
     "name": "stdout",
     "output_type": "stream",
     "text": [
      "Number of features: 17008\n"
     ]
    }
   ],
   "source": [
    "feature_names = vectorizer.get_feature_names()\n",
    "print(\"Number of features: {}\".format(len(feature_names)))"
   ]
  },
  {
   "cell_type": "markdown",
   "metadata": {},
   "source": [
    "# Classifier :\n",
    "\n",
    "## Multinomial Naive Bayes\n",
    "\n",
    "alpha : Laplace smoothing parameter. I have used alpha=0.01\n",
    "\n",
    "fit(x,y) : Fit Naive Bayes classifier according to x,y\n",
    "\n",
    "predict(x) : Perform classification on an array of test vectors x. test vectors= X_test"
   ]
  },
  {
   "cell_type": "code",
   "execution_count": 29,
   "metadata": {},
   "outputs": [
    {
     "data": {
      "text/plain": [
       "MultinomialNB(alpha=0.01)"
      ]
     },
     "execution_count": 29,
     "metadata": {},
     "output_type": "execute_result"
    }
   ],
   "source": [
    "from sklearn.naive_bayes import MultinomialNB\n",
    "mnb = MultinomialNB(alpha=.01)\n",
    "mnb.fit(pred, Y_train)"
   ]
  },
  {
   "cell_type": "code",
   "execution_count": 30,
   "metadata": {},
   "outputs": [
    {
     "data": {
      "text/plain": [
       "array([ 6.,  8.,  8.,  7., 10.])"
      ]
     },
     "execution_count": 30,
     "metadata": {},
     "output_type": "execute_result"
    }
   ],
   "source": [
    "result = mnb.predict(pred1)\n",
    "#type(result)\n",
    "result[:5]"
   ]
  },
  {
   "cell_type": "markdown",
   "metadata": {},
   "source": [
    "<b>Accuracy_score(x,y)</b> : This function computes subset accuracy. The set of labels predicted for a sample must exactly match the corresponding set of labels in True class. \n",
    "\n",
    "<b>mean_squared_error(x,y)</b> : This function calculates the mean square error.\n",
    "\n",
    "<b>classifiction_report(x,y)</b> : Build a text report showing the main classification metrics. That includes precision, f1-score,recall,supoort,accuracy.\n",
    "\n",
    "<b>True class</b>:- Y_test and <b>predicted samples</b>:- result"
   ]
  },
  {
   "cell_type": "code",
   "execution_count": 86,
   "metadata": {},
   "outputs": [
    {
     "name": "stdout",
     "output_type": "stream",
     "text": [
      "Accuracy:   0.28916\n",
      "MSE:   3.14746\n",
      "Classification Report for Multinomial Naive Bayes:\n",
      "               precision    recall  f1-score   support\n",
      "\n",
      "         1.0       0.13      0.09      0.10       338\n",
      "         2.0       0.13      0.08      0.10       659\n",
      "         3.0       0.12      0.06      0.08      1147\n",
      "         4.0       0.18      0.10      0.13      2319\n",
      "         5.0       0.19      0.15      0.16      3579\n",
      "         6.0       0.29      0.30      0.30      8867\n",
      "         7.0       0.29      0.26      0.27      9727\n",
      "         8.0       0.34      0.51      0.40     11339\n",
      "         9.0       0.20      0.11      0.15      4155\n",
      "        10.0       0.27      0.24      0.26      2796\n",
      "\n",
      "    accuracy                           0.29     44926\n",
      "   macro avg       0.22      0.19      0.20     44926\n",
      "weighted avg       0.27      0.29      0.27     44926\n",
      "\n"
     ]
    }
   ],
   "source": [
    "from sklearn.metrics import accuracy_score,mean_squared_error,classification_report\n",
    "mnb_score = accuracy_score(Y_test, result)\n",
    "mnb_rmse = mean_squared_error(Y_test, result)\n",
    "print(\"Accuracy:   {:.5f}\".format(mnb_score))\n",
    "print(\"MSE:   {:.5f}\".format(mnb_rmse))\n",
    "print(\"Classification Report for Multinomial Naive Bayes:\\n\", classification_report(Y_test,result))"
   ]
  },
  {
   "cell_type": "code",
   "execution_count": 32,
   "metadata": {},
   "outputs": [
    {
     "name": "stdout",
     "output_type": "stream",
     "text": [
      "Training set score: 0.45507\n",
      "Test set score: 0.28916\n"
     ]
    }
   ],
   "source": [
    "print(\"Training set score: {:.5f}\".format(mnb.score(pred, Y_train)))\n",
    "print(\"Test set score: {:.5f}\".format(mnb.score(pred1, Y_test)))"
   ]
  },
  {
   "cell_type": "code",
   "execution_count": 33,
   "metadata": {},
   "outputs": [
    {
     "name": "stdout",
     "output_type": "stream",
     "text": [
      "Populating the interactive namespace from numpy and matplotlib\n"
     ]
    },
    {
     "name": "stderr",
     "output_type": "stream",
     "text": [
      "C:\\Users\\Dhameliya Jemis\\anaconda3\\lib\\site-packages\\IPython\\core\\magics\\pylab.py:159: UserWarning: pylab import has clobbered these variables: ['random', 'shuffle', 'datetime', 'size']\n",
      "`%matplotlib` prevents importing * from pylab and numpy\n",
      "  warn(\"pylab import has clobbered these variables: %s\"  % clobbered +\n"
     ]
    },
    {
     "data": {
      "image/png": "[encoded data removed]",
      "text/plain": [
       "<Figure size 1080x432 with 1 Axes>"
      ]
     },
     "metadata": {
      "needs_background": "light"
     },
     "output_type": "display_data"
    }
   ],
   "source": [
    "%pylab inline \n",
    "pylab.rcParams['figure.figsize'] = (15,6)\n",
    "plt.plot(result[:10],label = 'Predicted')\n",
    "plt.plot(Y_test[:10].values, label = 'Actual')\n",
    "\n",
    "plt.legend()\n",
    "plt.show()"
   ]
  },
  {
   "cell_type": "markdown",
   "metadata": {},
   "source": [
    "<b> GridsearchCV </b>\n",
    "I used GridsearhCV to get better result.Exhaustive search over specified parameter values for an estimator.<br>\n",
    "<b>param_grid:</b>Dictionary with parameters names (str) as keys and lists of parameter settings to try as values, or a list of such dictionaries, in which case the grids spanned by each dictionary in the list are explored. This enables searching over any sequence of parameter settings.<br>\n",
    "<b>n_jobsint: </b>Number of jobs to run in parallel. None means 1 unless in a joblib.parallel_backend context. -1 means using all processors. See Glossary for more details.<br>\n",
    "<b>verboseinteger :</b>Controls the verbosity: the higher, the more messages."
   ]
  },
  {
   "cell_type": "code",
   "execution_count": 100,
   "metadata": {},
   "outputs": [
    {
     "name": "stdout",
     "output_type": "stream",
     "text": [
      "Fitting 5 folds for each of 5 candidates, totalling 25 fits\n"
     ]
    },
    {
     "name": "stderr",
     "output_type": "stream",
     "text": [
      "[Parallel(n_jobs=-1)]: Using backend LokyBackend with 4 concurrent workers.\n",
      "[Parallel(n_jobs=-1)]: Done  10 tasks      | elapsed:    1.6s\n",
      "[Parallel(n_jobs=-1)]: Done  25 out of  25 | elapsed:    2.7s finished\n"
     ]
    },
    {
     "name": "stdout",
     "output_type": "stream",
     "text": [
      "Train Accuracy : 0.345\n",
      "Test Accuracy : 0.303\n",
      "Best Accuracy Through Grid Search : 0.297\n",
      "Best Parameters :  {'alpha': 10.0}\n"
     ]
    }
   ],
   "source": [
    "from sklearn.model_selection import GridSearchCV\n",
    "\n",
    "params = {'alpha': [0.01, 0.1, 0.5, 1.0, 10.0],}\n",
    "\n",
    "mnb_grid = GridSearchCV(MultinomialNB(), param_grid=params, n_jobs=-1, cv=5, verbose=5)\n",
    "mnb_grid.fit(pred,Y_train)\n",
    "\n",
    "print('Train Accuracy : %.3f'%mnb_grid.best_estimator_.score(pred, Y_train))\n",
    "print('Test Accuracy : %.3f'%mnb_grid.best_estimator_.score(pred1, Y_test))\n",
    "print('Best Accuracy Through Grid Search : %.3f'%mnb_grid.best_score_)\n",
    "print('Best Parameters : ',mnb_grid.best_params_)"
   ]
  },
  {
   "cell_type": "markdown",
   "metadata": {},
   "source": [
    "Tf-idf stands for term frequency-inverse document frequency,This is very common algorithm to transform text into a meaningful representation of numbers which is used to fit machine algorithm for prediction.\n",
    "\n",
    "Count Vectorizer give number of frequency with respect to index of vocabulary where as tf-idf consider overall documents of weight of words.\n",
    "\n",
    "<b>TfidfVectorizer()</b> :  TfidfVectorizer weights the word counts by a measure of how often they appear in the documents.\n",
    "\n",
    "<b>Tfidfvectorizer() gives better accuracy and effectiveness of vectors on model.</b>"
   ]
  },
  {
   "cell_type": "code",
   "execution_count": 45,
   "metadata": {},
   "outputs": [],
   "source": [
    "from sklearn.feature_extraction.text import TfidfVectorizer\n",
    "tfidfvectorizer = TfidfVectorizer(min_df=5).fit(X_train)\n",
    "predtf = tfidfvectorizer.transform(X_train)\n",
    "predtf1 = tfidfvectorizer.transform(X_test)\n",
    "#print(\"predtf:\\n{}\".format(repr(predtf)))"
   ]
  },
  {
   "cell_type": "markdown",
   "metadata": {},
   "source": [
    "<b> Multinomial Naive Bayes with tfidf </b><br>\n",
    "It gives better accuracy compare to vectorizer."
   ]
  },
  {
   "cell_type": "code",
   "execution_count": 46,
   "metadata": {},
   "outputs": [
    {
     "data": {
      "text/plain": [
       "array([6., 8., 8., 7., 8.])"
      ]
     },
     "execution_count": 46,
     "metadata": {},
     "output_type": "execute_result"
    }
   ],
   "source": [
    "result1 = mnb.predict(predtf1)\n",
    "result1[:5]"
   ]
  },
  {
   "cell_type": "code",
   "execution_count": 87,
   "metadata": {},
   "outputs": [
    {
     "name": "stdout",
     "output_type": "stream",
     "text": [
      "Accuracy:   0.29259\n",
      "MSE:   3.02903\n",
      "Classification Report for Multinomial Naive Bayes with tfidf:\n",
      "               precision    recall  f1-score   support\n",
      "\n",
      "         1.0       0.21      0.02      0.03       338\n",
      "         2.0       0.19      0.01      0.02       659\n",
      "         3.0       0.17      0.01      0.01      1147\n",
      "         4.0       0.27      0.02      0.04      2319\n",
      "         5.0       0.20      0.03      0.05      3579\n",
      "         6.0       0.28      0.32      0.30      8867\n",
      "         7.0       0.26      0.24      0.25      9727\n",
      "         8.0       0.31      0.67      0.42     11339\n",
      "         9.0       0.25      0.03      0.05      4155\n",
      "        10.0       0.39      0.05      0.09      2796\n",
      "\n",
      "    accuracy                           0.29     44926\n",
      "   macro avg       0.25      0.14      0.13     44926\n",
      "weighted avg       0.28      0.29      0.24     44926\n",
      "\n"
     ]
    }
   ],
   "source": [
    "mnb_score2 = accuracy_score(Y_test, result1)\n",
    "mnb_rmse2 = mean_squared_error(Y_test, result1)\n",
    "print(\"Accuracy:   {:.5f}\".format(mnb_score2))\n",
    "print(\"MSE:   {:.5f}\".format(mnb_rmse2))\n",
    "print(\"Classification Report for Multinomial Naive Bayes with tfidf:\\n\", classification_report(Y_test,result1))"
   ]
  },
  {
   "cell_type": "code",
   "execution_count": 48,
   "metadata": {},
   "outputs": [
    {
     "name": "stdout",
     "output_type": "stream",
     "text": [
      "Training set score: 0.42071\n",
      "Test set score: 0.29259\n"
     ]
    }
   ],
   "source": [
    "print(\"Training set score: {:.5f}\".format(mnb.score(predtf, Y_train)))\n",
    "print(\"Test set score: {:.5f}\".format(mnb.score(predtf1, Y_test)))"
   ]
  },
  {
   "cell_type": "code",
   "execution_count": 49,
   "metadata": {},
   "outputs": [
    {
     "name": "stdout",
     "output_type": "stream",
     "text": [
      "Populating the interactive namespace from numpy and matplotlib\n"
     ]
    },
    {
     "data": {
      "image/png": "[encoded data removed]",
      "text/plain": [
       "<Figure size 1080x432 with 1 Axes>"
      ]
     },
     "metadata": {
      "needs_background": "light"
     },
     "output_type": "display_data"
    }
   ],
   "source": [
    "%pylab inline \n",
    "pylab.rcParams['figure.figsize'] = (15,6)\n",
    "plt.plot(result1[:10],label = 'Predicted')\n",
    "plt.plot(Y_test[:10].values, label = 'Actual')\n",
    "\n",
    "plt.legend()\n",
    "plt.show()"
   ]
  },
  {
   "cell_type": "markdown",
   "metadata": {},
   "source": [
    "## <b> Ridge Classifier </b>"
   ]
  },
  {
   "cell_type": "code",
   "execution_count": 50,
   "metadata": {},
   "outputs": [],
   "source": [
    "from sklearn.linear_model import RidgeClassifier\n",
    "ridge=RidgeClassifier().fit(pred,Y_train)"
   ]
  },
  {
   "cell_type": "code",
   "execution_count": 51,
   "metadata": {},
   "outputs": [
    {
     "data": {
      "text/plain": [
       "array([ 6., 10.,  8.,  8.,  8.])"
      ]
     },
     "execution_count": 51,
     "metadata": {},
     "output_type": "execute_result"
    }
   ],
   "source": [
    "result3=ridge.predict(pred1)\n",
    "result3[:5]"
   ]
  },
  {
   "cell_type": "code",
   "execution_count": 88,
   "metadata": {},
   "outputs": [
    {
     "name": "stdout",
     "output_type": "stream",
     "text": [
      "Accuracy:   0.28244\n",
      "MSE:   3.28026\n",
      "Classification Report for Ridge Classifier:\n",
      "               precision    recall  f1-score   support\n",
      "\n",
      "         1.0       0.33      0.03      0.06       338\n",
      "         2.0       0.17      0.02      0.04       659\n",
      "         3.0       0.18      0.02      0.04      1147\n",
      "         4.0       0.16      0.05      0.07      2319\n",
      "         5.0       0.18      0.06      0.09      3579\n",
      "         6.0       0.28      0.31      0.29      8867\n",
      "         7.0       0.26      0.28      0.27      9727\n",
      "         8.0       0.31      0.55      0.40     11339\n",
      "         9.0       0.18      0.07      0.10      4155\n",
      "        10.0       0.30      0.12      0.17      2796\n",
      "\n",
      "    accuracy                           0.28     44926\n",
      "   macro avg       0.24      0.15      0.15     44926\n",
      "weighted avg       0.26      0.28      0.25     44926\n",
      "\n"
     ]
    }
   ],
   "source": [
    "ridge_score = accuracy_score(Y_test, result3)\n",
    "ridge_rmse = mean_squared_error(Y_test, result3)\n",
    "print(\"Accuracy:   {:.5f}\".format(ridge_score))\n",
    "print(\"MSE:   {:.5f}\".format(ridge_rmse))\n",
    "print(\"Classification Report for Ridge Classifier:\\n\", classification_report(Y_test,result3))"
   ]
  },
  {
   "cell_type": "code",
   "execution_count": 53,
   "metadata": {},
   "outputs": [
    {
     "name": "stdout",
     "output_type": "stream",
     "text": [
      "Training set score: 0.49342\n",
      "Test set score: 0.28244\n"
     ]
    }
   ],
   "source": [
    "print(\"Training set score: {:.5f}\".format(ridge.score(pred, Y_train)))\n",
    "print(\"Test set score: {:.5f}\".format(ridge.score(pred1, Y_test)))"
   ]
  },
  {
   "cell_type": "code",
   "execution_count": 54,
   "metadata": {},
   "outputs": [
    {
     "name": "stdout",
     "output_type": "stream",
     "text": [
      "Populating the interactive namespace from numpy and matplotlib\n"
     ]
    },
    {
     "data": {
      "image/png": "[encoded data removed]",
      "text/plain": [
       "<Figure size 1080x432 with 1 Axes>"
      ]
     },
     "metadata": {
      "needs_background": "light"
     },
     "output_type": "display_data"
    }
   ],
   "source": [
    "%pylab inline \n",
    "pylab.rcParams['figure.figsize'] = (15,6)\n",
    "plt.plot(result3[:10],label = 'Predicted')\n",
    "plt.plot(Y_test[:10].values, label = 'Actual')\n",
    "\n",
    "plt.legend()\n",
    "plt.show()"
   ]
  },
  {
   "cell_type": "markdown",
   "metadata": {},
   "source": [
    "## Logistic Regression\n",
    "Considering the limitation of processor, so I take max_iterarion is 30000.<br>\n",
    "max_iter() : Maximum number of iterations taken for the solvers to converge."
   ]
  },
  {
   "cell_type": "code",
   "execution_count": 55,
   "metadata": {},
   "outputs": [
    {
     "data": {
      "text/plain": [
       "array([ 6., 10.,  8.,  8., 10.])"
      ]
     },
     "execution_count": 55,
     "metadata": {},
     "output_type": "execute_result"
    }
   ],
   "source": [
    "from sklearn.linear_model import LogisticRegression\n",
    "logreg = LogisticRegression(max_iter=30000).fit(pred, Y_train)\n",
    "result2 = logreg.predict(pred1)\n",
    "result2[:5]"
   ]
  },
  {
   "cell_type": "code",
   "execution_count": 89,
   "metadata": {},
   "outputs": [
    {
     "name": "stdout",
     "output_type": "stream",
     "text": [
      "Accuracy:   0.29304\n",
      "MSE:   2.97676\n",
      "Classification Report for Logistic Regression:\n",
      "               precision    recall  f1-score   support\n",
      "\n",
      "         1.0       0.24      0.10      0.15       338\n",
      "         2.0       0.18      0.07      0.11       659\n",
      "         3.0       0.13      0.06      0.08      1147\n",
      "         4.0       0.20      0.10      0.13      2319\n",
      "         5.0       0.19      0.10      0.13      3579\n",
      "         6.0       0.29      0.32      0.31      8867\n",
      "         7.0       0.28      0.28      0.28      9727\n",
      "         8.0       0.33      0.52      0.40     11339\n",
      "         9.0       0.23      0.11      0.15      4155\n",
      "        10.0       0.34      0.20      0.26      2796\n",
      "\n",
      "    accuracy                           0.29     44926\n",
      "   macro avg       0.24      0.19      0.20     44926\n",
      "weighted avg       0.28      0.29      0.27     44926\n",
      "\n"
     ]
    }
   ],
   "source": [
    "logreg_score = accuracy_score(Y_test, result2)\n",
    "logreg_rmse = mean_squared_error(Y_test, result2)\n",
    "print(\"Accuracy:   {:.5f}\".format(logreg_score))\n",
    "print(\"MSE:   {:.5f}\".format(logreg_rmse))\n",
    "print(\"Classification Report for Logistic Regression:\\n\", classification_report(Y_test,result2))"
   ]
  },
  {
   "cell_type": "code",
   "execution_count": 57,
   "metadata": {},
   "outputs": [
    {
     "name": "stdout",
     "output_type": "stream",
     "text": [
      "Training set score: 0.52512\n",
      "Test set score: 0.29304\n"
     ]
    }
   ],
   "source": [
    "print(\"Training set score: {:.5f}\".format(logreg.score(pred, Y_train)))\n",
    "print(\"Test set score: {:.5f}\".format(logreg.score(pred1, Y_test)))"
   ]
  },
  {
   "cell_type": "code",
   "execution_count": 58,
   "metadata": {},
   "outputs": [
    {
     "name": "stdout",
     "output_type": "stream",
     "text": [
      "Populating the interactive namespace from numpy and matplotlib\n"
     ]
    },
    {
     "data": {
      "image/png": "[encoded data removed]",
      "text/plain": [
       "<Figure size 1080x432 with 1 Axes>"
      ]
     },
     "metadata": {
      "needs_background": "light"
     },
     "output_type": "display_data"
    }
   ],
   "source": [
    "%pylab inline \n",
    "pylab.rcParams['figure.figsize'] = (15,6)\n",
    "plt.plot(result2[:10],label = 'Predicted')\n",
    "plt.plot(Y_test[:10].values, label = 'Actual')\n",
    "\n",
    "plt.legend()\n",
    "plt.show()"
   ]
  },
  {
   "cell_type": "code",
   "execution_count": 59,
   "metadata": {},
   "outputs": [],
   "source": [
    "# from sklearn.model_selection import GridSearchCV\n",
    "# param_grid = {'C': [0.001, 0.01, 0.1, 1, 10]}\n",
    "# grid = GridSearchCV(LogisticRegression(max_iter=20000), param_grid, cv=5)\n",
    "# grid.fit(pred, Y_train)"
   ]
  },
  {
   "cell_type": "markdown",
   "metadata": {},
   "source": [
    "<b> Logistic Regression with tfidf </b>"
   ]
  },
  {
   "cell_type": "code",
   "execution_count": 60,
   "metadata": {},
   "outputs": [
    {
     "data": {
      "text/plain": [
       "array([6., 7., 8., 8., 8.])"
      ]
     },
     "execution_count": 60,
     "metadata": {},
     "output_type": "execute_result"
    }
   ],
   "source": [
    "result5 = logreg.predict(predtf1)\n",
    "result5[:5]"
   ]
  },
  {
   "cell_type": "code",
   "execution_count": 90,
   "metadata": {},
   "outputs": [
    {
     "name": "stdout",
     "output_type": "stream",
     "text": [
      "Accuracy:   0.28556\n",
      "MSE:   3.10695\n",
      "Classification Report for Logistic regression with tf-idf:\n",
      "               precision    recall  f1-score   support\n",
      "\n",
      "         1.0       1.00      0.00      0.01       338\n",
      "         2.0       0.00      0.00      0.00       659\n",
      "         3.0       0.29      0.00      0.00      1147\n",
      "         4.0       0.25      0.01      0.01      2319\n",
      "         5.0       0.20      0.01      0.02      3579\n",
      "         6.0       0.28      0.31      0.29      8867\n",
      "         7.0       0.25      0.28      0.27      9727\n",
      "         8.0       0.31      0.64      0.41     11339\n",
      "         9.0       0.28      0.00      0.01      4155\n",
      "        10.0       0.65      0.01      0.01      2796\n",
      "\n",
      "    accuracy                           0.29     44926\n",
      "   macro avg       0.35      0.13      0.10     44926\n",
      "weighted avg       0.30      0.29      0.22     44926\n",
      "\n"
     ]
    }
   ],
   "source": [
    "logreg_score2 = accuracy_score(Y_test, result5)\n",
    "logreg2_rmse = mean_squared_error(Y_test, result5)\n",
    "print(\"Accuracy:   {:.5f}\".format(logreg_score2))\n",
    "print(\"MSE:   {:.5f}\".format(logreg2_rmse))\n",
    "print(\"Classification Report for Logistic regression with tf-idf:\\n\", classification_report(Y_test,result5))"
   ]
  },
  {
   "cell_type": "code",
   "execution_count": 62,
   "metadata": {},
   "outputs": [
    {
     "name": "stdout",
     "output_type": "stream",
     "text": [
      "Training set score: 0.41381\n",
      "Test set score: 0.28556\n"
     ]
    }
   ],
   "source": [
    "print(\"Training set score: {:.5f}\".format(logreg.score(predtf, Y_train)))\n",
    "print(\"Test set score: {:.5f}\".format(logreg.score(predtf1, Y_test)))"
   ]
  },
  {
   "cell_type": "code",
   "execution_count": 63,
   "metadata": {},
   "outputs": [
    {
     "name": "stdout",
     "output_type": "stream",
     "text": [
      "Populating the interactive namespace from numpy and matplotlib\n"
     ]
    },
    {
     "data": {
      "image/png": "[encoded data removed]",
      "text/plain": [
       "<Figure size 1080x432 with 1 Axes>"
      ]
     },
     "metadata": {
      "needs_background": "light"
     },
     "output_type": "display_data"
    }
   ],
   "source": [
    "%pylab inline \n",
    "pylab.rcParams['figure.figsize'] = (15,6)\n",
    "plt.plot(result5[:10],label = 'Predicted')\n",
    "plt.plot(Y_test[:10].values, label = 'Actual')\n",
    "\n",
    "plt.legend()\n",
    "plt.show()"
   ]
  },
  {
   "cell_type": "code",
   "execution_count": 64,
   "metadata": {},
   "outputs": [
    {
     "data": {
      "image/png": "[encoded data removed]",
      "text/plain": [
       "<Figure size 1080x432 with 1 Axes>"
      ]
     },
     "metadata": {
      "needs_background": "light"
     },
     "output_type": "display_data"
    }
   ],
   "source": [
    "N=1\n",
    "imp=np.arange(N)\n",
    "width=0.1\n",
    "plt.bar(imp, mnb_score , width,label='mnb')\n",
    "plt.bar(imp+width, mnb_score2 , width,label='mnb-tf')\n",
    "plt.bar(imp+width+width, ridge_score , width,label='ridge')\n",
    "plt.bar(imp+width+width+width, logreg_score , width,label='logreg')\n",
    "plt.bar(imp+width+width+width+width, logreg_score2 , width,label='logreg-tf')\n",
    "plt.ylabel('Accuracy')\n",
    "plt.xlabel('Classifier')\n",
    "plt.title('Accuracy Score')\n",
    "plt.legend(loc='best')\n",
    "plt.show()"
   ]
  },
  {
   "cell_type": "code",
   "execution_count": 65,
   "metadata": {},
   "outputs": [
    {
     "data": {
      "image/png": "[encoded data removed]",
      "text/plain": [
       "<Figure size 1080x432 with 1 Axes>"
      ]
     },
     "metadata": {
      "needs_background": "light"
     },
     "output_type": "display_data"
    }
   ],
   "source": [
    "N=1\n",
    "imp=np.arange(N)\n",
    "width=1\n",
    "plt.bar(imp, mnb_rmse , width,label='mnb')\n",
    "plt.bar(imp+width, mnb_rmse2 , width,label='mnb-tf')\n",
    "plt.bar(imp+width+width, ridge_rmse , width,label='ridge')\n",
    "plt.bar(imp+width+width+width, logreg_rmse , width,label='logreg')\n",
    "plt.bar(imp+width+width+width+width, logreg2_rmse , width,label='logreg-tf')\n",
    "plt.ylabel('Error')\n",
    "plt.xlabel('Classifier')\n",
    "plt.title('Mean Squared Error')\n",
    "plt.legend(loc='best')\n",
    "plt.show()"
   ]
  },
  {
   "cell_type": "markdown",
   "metadata": {},
   "source": [
    "### Final Observation\n",
    "Considering Accuracy and Mean Squared Error, Multinomial Naive Bayes with tfidf and logistic Regression performs very good and gives reasonable accuracy.\n",
    "\n",
    "### FInal Test\n",
    "The model did a good job of predicting rating for the input."
   ]
  },
  {
   "cell_type": "code",
   "execution_count": 97,
   "metadata": {},
   "outputs": [
    {
     "name": "stdout",
     "output_type": "stream",
     "text": [
      "Game Rating is : 1.0\n"
     ]
    }
   ],
   "source": [
    "my_comment = ['worst game']\n",
    "my_vectorizer = vectorizer.transform(my_comment)\n",
    "my_prediction = logreg.predict(my_vectorizer)\n",
    "print('Game Rating is :',(my_prediction[0]))"
   ]
  },
  {
   "cell_type": "code",
   "execution_count": 98,
   "metadata": {},
   "outputs": [
    {
     "name": "stdout",
     "output_type": "stream",
     "text": [
      "Game Rating is : 9.0\n"
     ]
    }
   ],
   "source": [
    "my_comment = ['Excellent game with good background music']\n",
    "my_vectorizer = vectorizer.transform(my_comment)\n",
    "my_prediction = mnb.predict(my_vectorizer)\n",
    "print('Game Rating is :',(my_prediction[0]))"
   ]
  },
  {
   "cell_type": "markdown",
   "metadata": {},
   "source": [
    "### <b> Improvements and Contribution </b>\n",
    "Most of the existing review classifier have take accuracy as a hyperparameter tuning, but I take accuracy and mean squared error as well for better accuracy.<br><br>\n",
    "I test all the classifier with Countvectorizer and Tfidfvectorizer as well to compare the results.<br>\n",
    "I find that TfidfVectorizer gives better result with multinomial naive bayes and Countvectorizer gives better result with logistic regression.<br><br>\n",
    "I also used GridsearchCV to find optimal alpha values which gives better accuracy.<br><br>\n",
    "It is observed that RidgeClassifier and Multinomial Naive Bayes are faster compare to Linear Regression."
   ]
  },
  {
   "cell_type": "markdown",
   "metadata": {},
   "source": [
    "### <b> Challenges </b>\n",
    "There are Numerous different values for rating in dataset, it is very hard to classify with that much of different values. So I used round() method from numpy to roundof the values.<br><br>\n",
    "The dataset is very large for the system I used, So first I have to preprocess the data and then took 5% of data for classification.<br><br>"
   ]
  },
  {
   "cell_type": "markdown",
   "metadata": {},
   "source": [
    "### References:\n",
    "1.https://github.com/jeremygrace/amazon-reviews/blob/master/sentiment-topic_modeling/Amazon_Reviews.ipynb as a reference<br>\n",
    "2.https://github.com/mansipatel2508/Yelp-Review-Stars-Prediction-with-Machine-Learning/blob/master/Yelp_Business_Stars%E2%80%99_Rating_Prediction.ipynb as a reference<br>\n",
    "3.https://github.com/rajat-1994/news-classifier/blob/master/news_classifier.ipynb as a reference<br>\n",
    "4.https://scikit-learn.org/stable/modules/generated/sklearn.model_selection.GridSearchCV.html for GridSearchcv <br>\n",
    "5.https://scikit-learn.org/stable/modules/generated/sklearn.metrics.accuracy_score.html for accuracy score<br>\n",
    "6.https://scikit-learn.org/stable/modules/generated/sklearn.metrics.classification_report.html for classification report<br>\n",
    "7.https://pythonhealthcare.org/2018/12/14/101-pre-processing-data-tokenization-stemming-and-removal-of-stop-words/ for preprocess the data <br>\n",
    "8.https://scikit-learn.org/stable/modules/generated/sklearn.feature_extraction.text.TfidfVectorizer.html for tfidfvectorizer<br>\n",
    "9.https://scikit-learn.org/stable/modules/generated/sklearn.linear_model.LogisticRegression.html and https://stackoverflow.com/questions/57085897/python-logistic-regression-max-iter-parameter-is-reducing-the-accuracy for logistic regression<br>\n",
    "10.<b> For Flask App</b>: I have used my one module, which was provided by one of my previous semester subject's Professor Dr. Devid Levine."
   ]
  },
  {
   "cell_type": "markdown",
   "metadata": {},
   "source": [
    "### <b> Links:</b>\n",
    "App : http://jemis43992.mybluemix.net/ <br>\n",
    "You tube Video: https://www.youtube.com/watch?v=NNfqphQWqXw <br>\n",
    "Github : https://github.com/jemis4991/Data-Mining-Term-Project <br>\n",
    "PortFolio : http://jpd3032.uta.cloud/portfolio/ <br>\n",
    "Blog : http://jpd3032.uta.cloud/blog-dm/\n",
    "-http://jpd3032.uta.cloud/portfolio/Term-Project.html"
   ]
  },
  {
   "cell_type": "code",
   "execution_count": null,
   "metadata": {},
   "outputs": [],
   "source": []
  }
 ],
 "metadata": {
  "kernelspec": {
   "display_name": "Python 3",
   "language": "python",
   "name": "python3"
  },
  "language_info": {
   "codemirror_mode": {
    "name": "ipython",
    "version": 3
   },
   "file_extension": ".py",
   "mimetype": "text/x-python",
   "name": "python",
   "nbconvert_exporter": "python",
   "pygments_lexer": "ipython3",
   "version": "3.8.3"
  }
 },
 "nbformat": 4,
 "nbformat_minor": 4
}
